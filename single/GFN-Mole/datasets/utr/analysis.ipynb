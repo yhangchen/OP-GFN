{
 "cells": [
  {
   "cell_type": "code",
   "execution_count": 1,
   "metadata": {},
   "outputs": [],
   "source": [
    "import pickle\n",
    "import numpy as np"
   ]
  },
  {
   "cell_type": "code",
   "execution_count": 2,
   "metadata": {},
   "outputs": [],
   "source": [
    "UTR_FILES = ['utr-y-0.npy',\n",
    "             'utr-y-1.npy',\n",
    "             'utr-y-2.npy',\n",
    "             'utr-y-3.npy',\n",
    "             'utr-y-4.npy',\n",
    "             'utr-y-5.npy',\n",
    "             'utr-y-6.npy',\n",
    "             'utr-y-7.npy',\n",
    "             'utr-y-8.npy',\n",
    "             'utr-y-9.npy',\n",
    "             'utr-y-10.npy',\n",
    "             'utr-y-11.npy',\n",
    "             'utr-y-12.npy',\n",
    "             'utr-y-13.npy']"
   ]
  },
  {
   "cell_type": "code",
   "execution_count": 3,
   "metadata": {},
   "outputs": [],
   "source": [
    "rewards = []\n",
    "for f in UTR_FILES:\n",
    "    reward = np.load(f)\n",
    "    rewards.append(reward)"
   ]
  },
  {
   "cell_type": "code",
   "execution_count": 4,
   "metadata": {},
   "outputs": [],
   "source": [
    "rewards = np.concatenate(rewards).flatten()"
   ]
  },
  {
   "cell_type": "code",
   "execution_count": 5,
   "metadata": {},
   "outputs": [],
   "source": [
    "with open(\"rewards.pkl\", \"wb\") as f:\n",
    "    pickle.dump(rewards, f)"
   ]
  },
  {
   "cell_type": "code",
   "execution_count": null,
   "metadata": {},
   "outputs": [],
   "source": []
  }
 ],
 "metadata": {
  "kernelspec": {
   "display_name": "gflownet_sub",
   "language": "python",
   "name": "python3"
  },
  "language_info": {
   "codemirror_mode": {
    "name": "ipython",
    "version": 3
   },
   "file_extension": ".py",
   "mimetype": "text/x-python",
   "name": "python",
   "nbconvert_exporter": "python",
   "pygments_lexer": "ipython3",
   "version": "3.8.16"
  },
  "orig_nbformat": 4
 },
 "nbformat": 4,
 "nbformat_minor": 2
}

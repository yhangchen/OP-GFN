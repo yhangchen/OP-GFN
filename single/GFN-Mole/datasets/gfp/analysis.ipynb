{
 "cells": [
  {
   "cell_type": "code",
   "execution_count": 4,
   "metadata": {},
   "outputs": [],
   "source": [
    "import pickle\n",
    "import numpy as np"
   ]
  },
  {
   "cell_type": "code",
   "execution_count": 5,
   "metadata": {},
   "outputs": [],
   "source": [
    "GFP_FILES = ['gfp-y-0.npy',\n",
    "             'gfp-y-1.npy',\n",
    "             'gfp-y-2.npy',\n",
    "             'gfp-y-3.npy',\n",
    "             'gfp-y-4.npy',\n",
    "             'gfp-y-5.npy',\n",
    "             'gfp-y-6.npy',\n",
    "             'gfp-y-7.npy',\n",
    "             'gfp-y-8.npy',\n",
    "             'gfp-y-9.npy',\n",
    "             'gfp-y-10.npy',\n",
    "             'gfp-y-11.npy']"
   ]
  },
  {
   "cell_type": "code",
   "execution_count": 6,
   "metadata": {},
   "outputs": [],
   "source": [
    "rewards = []\n",
    "for f in GFP_FILES:\n",
    "    reward = np.load(f)\n",
    "    rewards.append(reward)"
   ]
  },
  {
   "cell_type": "code",
   "execution_count": 7,
   "metadata": {},
   "outputs": [],
   "source": [
    "rewards = np.concatenate(rewards).flatten()"
   ]
  },
  {
   "cell_type": "code",
   "execution_count": 8,
   "metadata": {},
   "outputs": [],
   "source": [
    "with open(\"rewards.pkl\", \"wb\") as f:\n",
    "    pickle.dump(rewards, f)"
   ]
  },
  {
   "cell_type": "code",
   "execution_count": null,
   "metadata": {},
   "outputs": [],
   "source": []
  }
 ],
 "metadata": {
  "kernelspec": {
   "display_name": "gflownet_sub",
   "language": "python",
   "name": "python3"
  },
  "language_info": {
   "codemirror_mode": {
    "name": "ipython",
    "version": 3
   },
   "file_extension": ".py",
   "mimetype": "text/x-python",
   "name": "python",
   "nbconvert_exporter": "python",
   "pygments_lexer": "ipython3",
   "version": "3.9.16"
  },
  "orig_nbformat": 4
 },
 "nbformat": 4,
 "nbformat_minor": 2
}
